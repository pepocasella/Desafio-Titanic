{
 "cells": [
  {
   "cell_type": "markdown",
   "metadata": {},
   "source": [
    "# Desafio Titanic  - Modelo preditivo (morreu ou sobreviveu)\n"
   ]
  },
  {
   "cell_type": "markdown",
   "metadata": {},
   "source": [
    "![title](img/titanic.jpg)"
   ]
  },
  {
   "cell_type": "markdown",
   "metadata": {},
   "source": [
    "## Índice:\n",
    "\n",
    "#### Introdução\n",
    "\n",
    "#### Parte - 1\n",
    "- Cálculo das probabilidade:\n",
    "- Respostas:\n",
    "- Análise por gráficos:\n",
    "  - Comentários: (gráficos sobreviventes totais, homens e mulheres)\n",
    "  - Comentários: (gráfico sobreviventes em relação sexo)\n",
    "  - Verificando correlação entre a Classe dos tickets, Sexo e Sobreviventes:\n",
    "  - Comentários:(Classe dos Tickets correlacionado com Subreviventes)\n",
    "  - Comentários: (Classe dos Tickets e Sexo correlacionado com Subreviventes)\n",
    "- Conclusão (Parte - 1):\n",
    "\n",
    "#### Parte - 2\n",
    "- Algoritmos de Predição:\n",
    "- Coméntarios:(Modelo 1 - preditivo simples)\n",
    "- Scikit - Learn (usando a biblioteca sklearn)\n",
    "- Levando em consideração mais categorias\n",
    "- Comentários:(modelo 2 e 3 - Regressão Logística com uma ou mais categorias)\n",
    "- Conclusão geral (Resposta da última pergunta):"
   ]
  },
  {
   "cell_type": "markdown",
   "metadata": {},
   "source": [
    "# Introdução\n",
    "\n",
    "neste documento Jupyter Notebook foi realizado o levantamento das porcentagem pedidas e a idealização de dois modelos preditivos para responder a pergunta \"Qual modelo eu tenho uma acurácia maior (porcentagem de acerto), um que fala que toda mulher morreu ou um que fala que toda mulher sobreviveu?\" com embasamento científico:\n",
    "- 1) modelo preditivo simples (hipotese, resultado)\n",
    "- 2) modelo preditivo com Regressão logística"
   ]
  },
  {
   "cell_type": "code",
   "execution_count": 342,
   "metadata": {},
   "outputs": [],
   "source": [
    "import pandas as pd\n",
    "dados = pd.read_csv(\"dados_titanic.csv\") #importando os dados\n",
    "\n",
    "RANDOM_SEED = 88     # jeito que se embaralha os dados\n",
    "\n",
    "#print(dados.shape)   # dimenssão da matriz de dados\n",
    "#print(dados.count()) # possivel ver so os dados estão robusto o suficiente para analise \n",
    "dados.Sex = dados.Sex.astype('category')\n",
    "dados.Sex.cat.categories = ('0', '1')"
   ]
  },
  {
   "cell_type": "markdown",
   "metadata": {},
   "source": [
    "# Parte - 1"
   ]
  },
  {
   "cell_type": "markdown",
   "metadata": {},
   "source": [
    "### Calculo das probabilidade:\n",
    "\n",
    "- P(sobreviver | mulher)  = 0.74\n",
    "- P(morte | mulher) = 0.25\n",
    "- P(sobreviver | homen) =  0.188\n",
    "- P(morte | homen)  = 0.81\n",
    "\n",
    "#### Respostas:\n",
    "\n",
    "•\tQual a porcentagem de homens e mulheres no navio?\n",
    "\n",
    "    Porcentagem de mulheres no navio: 0.35241301907968575\n",
    "    Porcentagem de homens no navio: 0.6475869809203143\n",
    "\n",
    "•\tDos que morreram, qual é a porcentagem de homens e mulheres? (espaço amostral: número de mortos)\n",
    "\n",
    "    Porcentagem mortos que são homens: 0.8524590163934426\n",
    "    Porcentagem mortas que são mulheres: 0.14754098360655737"
   ]
  },
  {
   "cell_type": "code",
   "execution_count": 343,
   "metadata": {},
   "outputs": [
    {
     "name": "stdout",
     "output_type": "stream",
     "text": [
      "------------------------------------- Totais -------------------------------------\n",
      "\n",
      "Total de homens no navio: 577\n",
      "Total de mulheres no navio: 314\n",
      "Total de pessoas no navio: 891\n",
      "Porcentagem de mulheres no navio: 0.35241301907968575\n",
      "Porcentagem de homens no navio: 0.6475869809203143\n",
      "total de mulheres mortas: 81\n",
      "total de homens mortos: 468\n",
      "Porcentagem de mortos no navio: 0.6161616161616161\n",
      "Porcentagem de sobreviventes no navio: 0.38383838383838387\n",
      "\n",
      "\n",
      "------------------------------------- Dados ------------------------------------\n",
      "\n",
      "Porcentagem de homens vivos (espaço amostral homens): 0.18890814558058924\n",
      "Porcentagem de mulheres vivas (espaço amostral mulheres): 0.7420382165605095\n",
      "Porcentagem de homens mortos no navio: 0.8110918544194108\n",
      "Porcentagem de mulheres mortas no navio: 0.25796178343949044\n",
      "\n",
      "\n",
      "-------------------------------- Dos que morreram -------------------------------\n",
      "\n",
      "Porcentagem de homens mortos: 0.8524590163934426\n",
      "Porcentagem de mulheres mortas: 0.14754098360655737\n",
      "\n"
     ]
    }
   ],
   "source": [
    "print(\"------------------------------------- Totais -------------------------------------\")\n",
    "print(\"\")\n",
    "total_homens = dados.Sex.value_counts()[1]\n",
    "total_mulheres = dados.Sex.value_counts()[0]\n",
    "print('Total de homens no navio:',total_homens)\n",
    "print('Total de mulheres no navio:',total_mulheres)\n",
    "print('Total de pessoas no navio:',total_homens+total_mulheres)\n",
    "percent_mulheres = total_mulheres/(total_homens+total_mulheres)\n",
    "percent_mulheres\n",
    "print('Porcentagem de mulheres no navio:',percent_mulheres)\n",
    "percent_homens = total_homens/(total_homens+total_mulheres)\n",
    "percent_homens\n",
    "print('Porcentagem de homens no navio:',percent_homens)\n",
    "total_mulheres_mortas = crosstab[0][0]\n",
    "total_mulheres_mortas\n",
    "print('total de mulheres mortas:',total_mulheres_mortas)\n",
    "total_homens_mortos = crosstab[0][1]\n",
    "total_homens_mortos\n",
    "print('total de homens mortos:',total_homens_mortos)\n",
    "percent_mortos = (total_homens_mortos + total_mulheres_mortas) / (total_homens+total_mulheres)\n",
    "print('Porcentagem de mortos no navio:',percent_mortos)\n",
    "percent_sobreviventes = 1-percent_mortos\n",
    "print('Porcentagem de sobreviventes no navio:',percent_sobreviventes)\n",
    "print(\"\")\n",
    "print(\"\")\n",
    "print(\"------------------------------------- Dados ------------------------------------\")\n",
    "print(\"\")\n",
    "percent_homens_vivos = (total_homens-total_homens_mortos)/(total_homens) #dentre o númeoro de homens\n",
    "percent_mulheres_vivas = (total_mulheres-total_mulheres_mortas)/(total_mulheres) # dentre o número de mulheres\n",
    "print('Porcentagem de homens vivos (espaço amostral homens):',percent_homens_vivos)\n",
    "print('Porcentagem de mulheres vivas (espaço amostral mulheres):',percent_mulheres_vivas)\n",
    "\n",
    "percent_homens_mortos_navio = total_homens_mortos/(total_homens)\n",
    "percent_mulheres_mortas_navio = total_mulheres_mortas/(total_mulheres)\n",
    "print('Porcentagem de homens mortos no navio:',percent_homens_mortos_navio)\n",
    "print('Porcentagem de mulheres mortas no navio:',percent_mulheres_mortas_navio)\n",
    "\n",
    "print(\"\")\n",
    "print(\"\")\n",
    "print(\"-------------------------------- Dos que morreram -------------------------------\")\n",
    "print(\"\")\n",
    "percent_homens_mortos = total_homens_mortos/(total_homens_mortos+total_mulheres_mortas)\n",
    "print('Porcentagem de homens mortos:',percent_homens_mortos)\n",
    "percent_mulheres_mortas = total_mulheres_mortas/(total_homens_mortos+total_mulheres_mortas)\n",
    "print('Porcentagem de mulheres mortas:',percent_mulheres_mortas)\n",
    "print(\"\")"
   ]
  },
  {
   "cell_type": "markdown",
   "metadata": {},
   "source": [
    "### Análise por gráficos:"
   ]
  },
  {
   "cell_type": "code",
   "execution_count": 344,
   "metadata": {},
   "outputs": [
    {
     "data": {
      "image/png": "[encoded data removed]",
      "text/plain": [
       "<Figure size 1440x1440 with 3 Axes>"
      ]
     },
     "metadata": {
      "needs_background": "light"
     },
     "output_type": "display_data"
    }
   ],
   "source": [
    "import matplotlib.pyplot as plt\n",
    "\n",
    "fig = plt.figure(figsize = (20,20))\n",
    "\n",
    "plt.subplot2grid((3,4),(0,0))\n",
    "dados.Survived.value_counts(normalize = True).plot(kind=\"bar\",alpha = 0.5)\n",
    "plt.title(\"Sobreviventes\")\n",
    "\n",
    "plt.subplot2grid((3,4),(0,1))\n",
    "dados.Survived[dados.Sex == \"1\"].value_counts(normalize = True).plot(kind=\"bar\",alpha = 0.5)\n",
    "plt.title(\"Homen Sobreviveu\")\n",
    "\n",
    "plt.subplot2grid((3,4),(0,2))\n",
    "dados.Survived[dados.Sex == \"0\"].value_counts(normalize = True).plot(kind=\"bar\",alpha = 0.5, color=\"#FA0000\" )\n",
    "plt.title(\"Mulher Sobreviveu\")\n",
    "\n",
    "plt.show()"
   ]
  },
  {
   "cell_type": "markdown",
   "metadata": {},
   "source": [
    "### Comentários:\n",
    "\n",
    "##### (gráficos sobreviventes totais, homens e mulheres)\n",
    "\n",
    "lembrando que para categoria sobreviventes, 1 é igual a sobreviveu e 0 é igual a morreu, é possivel observar no primeiro gráfico em barras, no geral, que 60% do passageiros morrerram e 40% dos passageiros sobreviveram. Além disso, analisando os outros dois gráficos podemos afirmar que mais de 80% do homens morreram e que um pouco mais de 25% das mulheres morreram. Em relação aos sobreviventes, menos de 20% dos homens e mais de 70% das mulheres sobreviveram.\n"
   ]
  },
  {
   "cell_type": "code",
   "execution_count": 345,
   "metadata": {},
   "outputs": [
    {
     "data": {
      "image/png": "[encoded data removed]",
      "text/plain": [
       "<Figure size 1440x1440 with 1 Axes>"
      ]
     },
     "metadata": {
      "needs_background": "light"
     },
     "output_type": "display_data"
    }
   ],
   "source": [
    "fig = plt.figure(figsize = (20,20))\n",
    "\n",
    "plt.subplot2grid((3,4),(0,2))\n",
    "dados.Sex[dados.Survived == 1].value_counts(normalize = True).plot(kind=\"bar\",alpha = 0.5, color=[\"#FA0000\", \"b\"] )\n",
    "plt.title(\"Sobreviveu em relação sexo\")\n",
    "\n",
    "plt.show()"
   ]
  },
  {
   "cell_type": "markdown",
   "metadata": {},
   "source": [
    "### Comentários:\n",
    "\n",
    "##### (gráfico sobreviventes em relação sexo)\n",
    "\n",
    "Com a o grafico acima é possivel observar que por volta de 65% dos sobreviventes são mulheres e que por volta de 35% são homens. Lembrando que para a informação do sexo 0 corresponde a mulher e 1 corresponde a homem"
   ]
  },
  {
   "cell_type": "markdown",
   "metadata": {},
   "source": [
    "### Verificando cruzamento entre a Classe dos tickets, Sexo e Sobreviventes:\n",
    "\n",
    "- pessoas que são mais ricas sobreviveram mais?\n",
    "- pessoas que são mais ricas e mulheres sobreviveram mais?\n",
    "- pessoas que são pobres e homens morreram mais? "
   ]
  },
  {
   "cell_type": "code",
   "execution_count": 357,
   "metadata": {},
   "outputs": [
    {
     "data": {
      "image/png": "[encoded data removed]",
      "text/plain": [
       "<Figure size 720x720 with 1 Axes>"
      ]
     },
     "metadata": {
      "needs_background": "light"
     },
     "output_type": "display_data"
    }
   ],
   "source": [
    "#Correlacionando a Classe dos tickets e Sobreviventes\n",
    "\n",
    "fig = plt.figure(figsize = (10,10))\n",
    "\n",
    "for x in [1,2,3]:\n",
    "    dados.Survived[dados.Pclass == x].plot(kind = 'kde', alpha = 0.5)\n",
    "plt.title(\"Classe dos Tickets correlacionado com Sobreviventes\")\n",
    "plt.legend(('1st','2nd','3rd'))\n",
    "plt.show()"
   ]
  },
  {
   "cell_type": "markdown",
   "metadata": {},
   "source": [
    "### Comentários:\n",
    "\n",
    "###### (Classe dos Tickets correlacionado com Subreviventes)\n",
    "\n",
    "No gráfico acima é possivel observar que a quantidade de passageiros da terceira classe (3rd - curva verde) que morreu é muito maior do que a quantidade de passageiros da preimeira classe (1st - curva azul). É interessante ressaltar que os dados relacionado a classe são discretos e que os dados de sobreviventes são binários, assim, no gráfico kernel density estimate (kde) por favor desconsiderar as regiões transientes e apenas levar em consideração a região da abscissa 0 e 1"
   ]
  },
  {
   "cell_type": "code",
   "execution_count": 347,
   "metadata": {},
   "outputs": [
    {
     "data": {
      "text/plain": [
       "Text(0.5, 1.0, 'Mulheres pobres sobreviveu')"
      ]
     },
     "execution_count": 347,
     "metadata": {},
     "output_type": "execute_result"
    },
    {
     "data": {
      "image/png": "[encoded data removed]",
      "text/plain": [
       "<Figure size 2160x1080 with 4 Axes>"
      ]
     },
     "metadata": {
      "needs_background": "light"
     },
     "output_type": "display_data"
    }
   ],
   "source": [
    "fig = plt.figure(figsize = (30,15))\n",
    "\n",
    "plt.subplot2grid((3,4),(0,0))\n",
    "dados.Survived[(dados.Sex == \"1\") & (dados.Pclass == 1)].value_counts(normalize = True).plot(kind=\"bar\",alpha = 0.5)\n",
    "plt.title(\"Homnes ricos sobreviveu\")\n",
    "\n",
    "plt.subplot2grid((3,4),(0,1))\n",
    "dados.Survived[(dados.Sex == \"1\") & (dados.Pclass == 3)].value_counts(normalize = True).plot(kind=\"bar\",alpha = 0.5)\n",
    "plt.title(\"Homnes pobres sobreviveu\")\n",
    "\n",
    "plt.subplot2grid((3,4),(0,2))\n",
    "dados.Survived[(dados.Sex == \"0\") & (dados.Pclass == 1)].value_counts(normalize = True).plot(kind=\"bar\",alpha = 0.5, color=\"#FA0000\")\n",
    "plt.title(\"Mulheres ricos sobreviveu\")\n",
    "\n",
    "plt.subplot2grid((3,4),(0,3))\n",
    "dados.Survived[(dados.Sex == \"0\") & (dados.Pclass == 3)].value_counts(normalize = True).plot(kind=\"bar\",alpha = 0.5, color=\"#FA0000\")\n",
    "plt.title(\"Mulheres pobres sobreviveu\")\n"
   ]
  },
  {
   "cell_type": "markdown",
   "metadata": {},
   "source": [
    "### Comentários:\n",
    "\n",
    "##### (Classe dos Tickets e Sexo correlacionado com Subreviventes)\n",
    "\n",
    "Com esses quatro gráficos é visivel que pessoas com mais dinheiro tiveram mais chance de sobreviver. O gráficos 1 e 3 mostram que 35% dos homens ricos e quase 100% das mulheres ricas sobreviveram. Em contra partida menos de 20% dos homens pobres sobreviveram e 50% das mulheres pobres sobreviveram."
   ]
  },
  {
   "cell_type": "markdown",
   "metadata": {},
   "source": [
    "### Conclusão (Parte - 1):\n",
    "\n",
    "com a analise dos dados acima podemos inferir que o passageiro terá maior probabilidade sobreviver caso este seja mulher e rica  "
   ]
  },
  {
   "cell_type": "markdown",
   "metadata": {},
   "source": [
    "# Parte - 2\n",
    "\n",
    "### Algoritmos de Predição:\n",
    "\n",
    "partindo do ponto acima que concluimos, segundo a analise dos dado, que caso você seja mulher você sobrevivirá e caso você seja homem você morrerá, é possivel realizar um algoritimo preditivo simples que retorne a acurácia dessa afirmação levando em cosideração o gênero. "
   ]
  },
  {
   "cell_type": "code",
   "execution_count": 361,
   "metadata": {},
   "outputs": [
    {
     "name": "stdout",
     "output_type": "stream",
     "text": [
      "Acurácia: 0.7867564534231201\n"
     ]
    }
   ],
   "source": [
    "train = pd.read_csv(\"dados_titanic.csv\")\n",
    "\n",
    "#condicionado a estimativa\n",
    "train[\"hipotese\"] = 0\n",
    "train.loc[train.Sex ==\"female\",\"hipotese\"] = 1 #forçando a criação de uma coluna com 1s cajo mulher\n",
    "\n",
    "#checando a estimativa\n",
    "train[\"resultado\"] = 0\n",
    "train.loc[train.Survived == train[\"hipotese\"], \"resultado\"] = 1 #realizando a comparação da estimativa com os dados\n",
    "\n",
    "print('Acurácia:',train[\"resultado\"].value_counts(normalize=True)[1])"
   ]
  },
  {
   "cell_type": "markdown",
   "metadata": {},
   "source": [
    "### Coméntarios:\n",
    "\n",
    "###### (Modelo 1 - preditivo simples)\n",
    "\n",
    "analisando o resultado desta etapa de predição é possivel afirmar que a probabilidade de uma mulher sobreviver no desastre do  Titanic é de 78,67%."
   ]
  },
  {
   "cell_type": "markdown",
   "metadata": {},
   "source": [
    "### Scikit - Learn (usando a biblioteca sklearn)\n",
    "\n",
    "A principal biblioteca para Machine Learning em Python chama-se Scikit-Learn, ou de modo abreviado sklearn. Com esta biblioteca podemos construir modelos de aprendizado de máquina bem sofisticados.\n"
   ]
  },
  {
   "cell_type": "code",
   "execution_count": 349,
   "metadata": {},
   "outputs": [
    {
     "data": {
      "text/plain": [
       "((712, 1), (712,), (179, 1), (179,))"
      ]
     },
     "execution_count": 349,
     "metadata": {},
     "output_type": "execute_result"
    }
   ],
   "source": [
    "#transformando male = 1 e female = 0\n",
    "train.Sex = train.Sex.astype('category')\n",
    "train.Sex.cat.categories = ('0', '1')\n",
    "train.Sex.value_counts()\n",
    "\n",
    "y = train.Survived\n",
    "X = train.loc[:,['Sex']] #levando em consideração apenas o gênero\n",
    "\n",
    "from sklearn.model_selection import train_test_split\n",
    "# Separando treinamento e teste: dividindo o conjunto de exemplos em duas partes: um conjunto de treinamento e um conjunto de testes.\n",
    "X_train, X_test, y_train, y_test = train_test_split(X, y, test_size=0.20,random_state=RANDOM_SEED)\n",
    "\n",
    "X_train.shape, y_train.shape, X_test.shape, y_test.shape"
   ]
  },
  {
   "cell_type": "code",
   "execution_count": 350,
   "metadata": {},
   "outputs": [
    {
     "name": "stdout",
     "output_type": "stream",
     "text": [
      "Acurácia do modelo regressão logística levando em conta apenas o sexo:\n",
      "Acurácia: 0.7988826815642458\n"
     ]
    },
    {
     "name": "stderr",
     "output_type": "stream",
     "text": [
      "C:\\Users\\Pedro Casella.DESKTOP-T4HRM18.000\\Anaconda3\\lib\\site-packages\\sklearn\\linear_model\\logistic.py:433: FutureWarning: Default solver will be changed to 'lbfgs' in 0.22. Specify a solver to silence this warning.\n",
      "  FutureWarning)\n"
     ]
    }
   ],
   "source": [
    "from sklearn.linear_model import LogisticRegression\n",
    "from sklearn.metrics import accuracy_score\n",
    "\n",
    "# Calcula acurácia.\n",
    "acc = accuracy_score(y_test, y_pred)\n",
    "\n",
    "model = LogisticRegression()\n",
    "model.fit(X_train, y_train)\n",
    "y_pred = model.predict(X_test)\n",
    "print('Acurácia do modelo regressão logística levando em conta apenas o sexo:')\n",
    "print('Acurácia: {}'.format(accuracy_score(y_test, y_pred)))"
   ]
  },
  {
   "cell_type": "markdown",
   "metadata": {},
   "source": [
    "### Levando em consideração mais categorias\n",
    "\n",
    "para aumentar a acurácia do modelo preditivo serão levado em considerações além do sexo a  Idade, a Classe do ticket do passageiro, a tarifa do ticket, o número de de irmãos/cônjuges a bordo e número de pais/filhos a bordo"
   ]
  },
  {
   "cell_type": "code",
   "execution_count": 351,
   "metadata": {},
   "outputs": [
    {
     "name": "stdout",
     "output_type": "stream",
     "text": [
      "Acuracia do modelo regressão logística levando em conta a tarifa, classe do ticket, a idade, o sexo, o número de de irmãos/cônjuges a bordo e número de pais/filhos a bordo do Titanic:\n",
      "Acurácia: 0.8100558659217877\n"
     ]
    },
    {
     "name": "stderr",
     "output_type": "stream",
     "text": [
      "C:\\Users\\Pedro Casella.DESKTOP-T4HRM18.000\\Anaconda3\\lib\\site-packages\\sklearn\\linear_model\\logistic.py:433: FutureWarning: Default solver will be changed to 'lbfgs' in 0.22. Specify a solver to silence this warning.\n",
      "  FutureWarning)\n"
     ]
    }
   ],
   "source": [
    "#tratando os dado que tem informação em branco e substituindo pelo valor médio da coluna\n",
    "train[\"Fare\"] = train[\"Fare\"].fillna(train[\"Fare\"].dropna().median())\n",
    "train[\"Age\"] = train[\"Age\"].fillna(train[\"Age\"].dropna().median())\n",
    " \n",
    "y_novo = train.Survived\n",
    "X_novo = train.loc[:,['Fare','Pclass','Age',\"Sex\",\"Parch\",\"SibSp\"]]\n",
    "\n",
    "X_train_novo, X_test_novo, y_train_novo, y_test_novo = train_test_split(X_novo, y_novo, test_size=0.20, random_state=RANDOM_SEED)\n",
    "\n",
    "model = LogisticRegression()\n",
    "model.fit(X_train_novo, y_train_novo)\n",
    "y_pred = model.predict(X_test_novo)\n",
    "print('Acurácia do modelo regressão logística levando em conta a tarifa, classe do ticket, a idade, o sexo, o número de de irmãos/cônjuges a bordo e número de pais/filhos a bordo do Titanic:')\n",
    "print('Acurácia: {}'.format(accuracy_score(y_test_novo, y_pred)))"
   ]
  },
  {
   "cell_type": "markdown",
   "metadata": {},
   "source": [
    "### Comentários:\n",
    "\n",
    "###### (modelo 2 e 3 - Regressão Logística com uma ou mais categorias)\n",
    "\n",
    "Realizando a análise dessa etapa com os modelos preditivos 2 e 3 é possivel verificar que quando é levado em conta apenas a categoria Sexo, o modelo 2 apresenta um acurácia próxima do modelo 1 simples. Porém, quando são levados em conta outras categorias para correlacionar é possivel melhorar a acurácia do modelo em 2% aproximadamente\n",
    "\n",
    "    "
   ]
  },
  {
   "cell_type": "markdown",
   "metadata": {},
   "source": [
    "# Conclusão geral:\n",
    "\n",
    "Com a analise dos dados tanto de maneira simples como fazendo o uso de ferramentas de machine learning podemos concluir que se tem maior acurácia quando o modelo menciona que toda mulher sobreviveu\n",
    "\n",
    "- modelo 1 - simples  => acurácia de 78,67%\n",
    "- modelo 2 - regressão logística (levando em conta Sexo) => acuracia de 79,88%\n",
    "- modelo 3 - regressão logística (levando em conta Sexo, tarifa ticket, classe do ticket numero de de irmãos/cônjuges a bordo e numero de pais/filhos a bordo do => acuracia de 81,0%"
   ]
  },
  {
   "cell_type": "code",
   "execution_count": null,
   "metadata": {},
   "outputs": [],
   "source": []
  }
 ],
 "metadata": {
  "kernelspec": {
   "display_name": "Python 3",
   "language": "python",
   "name": "python3"
  },
  "language_info": {
   "codemirror_mode": {
    "name": "ipython",
    "version": 3
   },
   "file_extension": ".py",
   "mimetype": "text/x-python",
   "name": "python",
   "nbconvert_exporter": "python",
   "pygments_lexer": "ipython3",
   "version": "3.7.1"
  }
 },
 "nbformat": 4,
 "nbformat_minor": 2
}
